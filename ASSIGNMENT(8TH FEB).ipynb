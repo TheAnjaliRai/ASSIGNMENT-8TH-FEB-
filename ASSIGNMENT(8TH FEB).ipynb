{
 "cells": [
  {
   "cell_type": "code",
   "execution_count": 1,
   "id": "96a7a55b",
   "metadata": {},
   "outputs": [],
   "source": [
    "#ques1\n",
    "# ABSTRACTION is defined as a process of handling complexities by hiding unnecessary information from the user\n",
    "# pre-defined functions are similar to data abstraction\n",
    "# real world example - when we use washing machine , we put our laundar and detergent inside the machine and wait for the machine to perfrom the task\n",
    "# how the machine performs it is hidden from us"
   ]
  },
  {
   "cell_type": "code",
   "execution_count": 5,
   "id": "5c32e089",
   "metadata": {},
   "outputs": [],
   "source": [
    "# abstarct class is a skeleton class\n",
    "import abc\n",
    "class course:\n",
    "    \n",
    "    @abc.abstractmethod\n",
    "    def student_name(self):\n",
    "        pass\n",
    "    \n",
    "    @abc.abstractmethod\n",
    "    def student_mark(self):\n",
    "        pass\n"
   ]
  },
  {
   "cell_type": "code",
   "execution_count": 6,
   "id": "f20e9dae",
   "metadata": {},
   "outputs": [],
   "source": [
    "class data_science(course):\n",
    "    \n",
    "    def student_name(self):\n",
    "        return \"anjali\"\n",
    "    def student_mark(self):\n",
    "        return 90\n"
   ]
  },
  {
   "cell_type": "code",
   "execution_count": 7,
   "id": "f3789260",
   "metadata": {},
   "outputs": [],
   "source": [
    "# ques2\n",
    "# abstraction - is hiding the unnecessary details or internal functionality and implementation of the code\n",
    "# encapsulation - is hiding the data and controlling the visibility of the code and avoiding the direct access of the variables\n",
    "# encapsulation basically means storing or placing data in a single place to make it easily readable and compact in one place\n"
   ]
  },
  {
   "cell_type": "code",
   "execution_count": 18,
   "id": "a082d2b0",
   "metadata": {},
   "outputs": [
    {
     "data": {
      "text/plain": [
       "'mini cooper'"
      ]
     },
     "execution_count": 18,
     "metadata": {},
     "output_type": "execute_result"
    }
   ],
   "source": [
    "# example of encapsulation\n",
    "class car:\n",
    "    def __init__(self, name):\n",
    "        self.__name = name\n",
    "    def get_name(self):\n",
    "        return self.__name\n",
    "obj = car(\"mini cooper\")\n",
    "obj.get_name()"
   ]
  },
  {
   "cell_type": "code",
   "execution_count": 19,
   "id": "fdd450b7",
   "metadata": {},
   "outputs": [],
   "source": [
    "# example of encapsulation\n",
    "import abc\n",
    "class course:\n",
    "    \n",
    "    @abc.abstractmethod\n",
    "    def student_name(self):\n",
    "        pass\n",
    "    \n",
    "    @abc.abstractmethod\n",
    "    def student_mark(self):\n",
    "        pass\n",
    "class data_science(course):\n",
    "    \n",
    "    def student_name(self):\n",
    "        return \"anjali\"\n",
    "    def student_mark(self):\n",
    "        return 90\n"
   ]
  },
  {
   "cell_type": "code",
   "execution_count": 20,
   "id": "514a2d11",
   "metadata": {},
   "outputs": [],
   "source": [
    "# ques3\n",
    "# abc stands for abstract bace class\n",
    "# it is a built-in module to create an abstract base class in python"
   ]
  },
  {
   "cell_type": "code",
   "execution_count": 21,
   "id": "9f29ee45",
   "metadata": {},
   "outputs": [],
   "source": [
    "# ques4\n",
    "# data abstraction in python can be achieved through creating abstract classes and inheriting them later"
   ]
  },
  {
   "cell_type": "code",
   "execution_count": null,
   "id": "ebb913ad",
   "metadata": {},
   "outputs": [],
   "source": [
    "# ques5\n",
    "# NO, WE CANNOT CREATE INSTANCES OF AN ABSTRACT CLASS AS ABSTRACT CLASSES ARE NOT COMPLETE, AS THEY MAY HAVE SOME METHODS THAT ARE NOT DEFINED\n"
   ]
  }
 ],
 "metadata": {
  "kernelspec": {
   "display_name": "Python 3 (ipykernel)",
   "language": "python",
   "name": "python3"
  },
  "language_info": {
   "codemirror_mode": {
    "name": "ipython",
    "version": 3
   },
   "file_extension": ".py",
   "mimetype": "text/x-python",
   "name": "python",
   "nbconvert_exporter": "python",
   "pygments_lexer": "ipython3",
   "version": "3.9.12"
  }
 },
 "nbformat": 4,
 "nbformat_minor": 5
}
